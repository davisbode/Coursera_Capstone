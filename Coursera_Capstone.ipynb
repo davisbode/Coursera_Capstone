{
 "cells": [
  {
   "cell_type": "markdown",
   "id": "b61938b4-5ff9-4ecf-90bb-58d209467ccd",
   "metadata": {},
   "source": [
    "### IBM Capstone Project\n",
    "By: Davis "
   ]
  },
  {
   "cell_type": "code",
   "execution_count": 1,
   "id": "55ab39e3-bebe-4320-bc85-020491a358bf",
   "metadata": {},
   "outputs": [],
   "source": [
    "import pandas as pd\n",
    "import numpy as np"
   ]
  },
  {
   "cell_type": "code",
   "execution_count": 2,
   "id": "da2d8f02-d027-4fc0-925f-a955abf1a585",
   "metadata": {},
   "outputs": [
    {
     "name": "stdout",
     "output_type": "stream",
     "text": [
      "Hello Capstone Project Course\n"
     ]
    }
   ],
   "source": [
    "print (\"Hello Capstone Project Course\")"
   ]
  },
  {
   "cell_type": "code",
   "execution_count": null,
   "id": "fa0de005-0063-441c-afe6-4adaf34b2980",
   "metadata": {},
   "outputs": [],
   "source": []
  }
 ],
 "metadata": {
  "kernelspec": {
   "display_name": "Python 3",
   "language": "python",
   "name": "python3"
  },
  "language_info": {
   "codemirror_mode": {
    "name": "ipython",
    "version": 3
   },
   "file_extension": ".py",
   "mimetype": "text/x-python",
   "name": "python",
   "nbconvert_exporter": "python",
   "pygments_lexer": "ipython3",
   "version": "3.8.8"
  }
 },
 "nbformat": 4,
 "nbformat_minor": 5
}
